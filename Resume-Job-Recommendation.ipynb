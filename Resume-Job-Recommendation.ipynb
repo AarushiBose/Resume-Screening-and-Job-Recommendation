{
 "cells": [
  {
   "cell_type": "markdown",
   "id": "e7742eb7",
   "metadata": {},
   "source": [
    "## Libraries"
   ]
  },
  {
   "cell_type": "code",
   "execution_count": 1,
   "id": "1299bed4",
   "metadata": {},
   "outputs": [],
   "source": [
    "import pandas as pd"
   ]
  },
  {
   "cell_type": "markdown",
   "id": "920db235",
   "metadata": {},
   "source": [
    "## Import Dataset"
   ]
  },
  {
   "cell_type": "code",
   "execution_count": 2,
   "id": "b1e014d0",
   "metadata": {},
   "outputs": [],
   "source": [
    "df = pd.read_csv(\"jobs_dataset_with_features.csv\")"
   ]
  },
  {
   "cell_type": "markdown",
   "id": "39753e22",
   "metadata": {},
   "source": [
    "## EDA"
   ]
  },
  {
   "cell_type": "code",
   "execution_count": 3,
   "id": "41b68c18",
   "metadata": {
    "scrolled": true
   },
   "outputs": [
    {
     "data": {
      "text/html": [
       "<div>\n",
       "<style scoped>\n",
       "    .dataframe tbody tr th:only-of-type {\n",
       "        vertical-align: middle;\n",
       "    }\n",
       "\n",
       "    .dataframe tbody tr th {\n",
       "        vertical-align: top;\n",
       "    }\n",
       "\n",
       "    .dataframe thead th {\n",
       "        text-align: right;\n",
       "    }\n",
       "</style>\n",
       "<table border=\"1\" class=\"dataframe\">\n",
       "  <thead>\n",
       "    <tr style=\"text-align: right;\">\n",
       "      <th></th>\n",
       "      <th>Role</th>\n",
       "      <th>Features</th>\n",
       "    </tr>\n",
       "  </thead>\n",
       "  <tbody>\n",
       "    <tr>\n",
       "      <th>37895</th>\n",
       "      <td>HVAC Systems Designer</td>\n",
       "      <td>5 to 15 Years Mechanical Designer BCA HVAC sys...</td>\n",
       "    </tr>\n",
       "    <tr>\n",
       "      <th>3266</th>\n",
       "      <td>Brand Marketing Analyst</td>\n",
       "      <td>4 to 11 Years Brand Manager PhD Marketing anal...</td>\n",
       "    </tr>\n",
       "    <tr>\n",
       "      <th>600932</th>\n",
       "      <td>Content Creator</td>\n",
       "      <td>0 to 15 Years Social Media Coordinator M.Tech ...</td>\n",
       "    </tr>\n",
       "    <tr>\n",
       "      <th>1072307</th>\n",
       "      <td>Performance Tester</td>\n",
       "      <td>4 to 10 Years Software Tester MBA Performance ...</td>\n",
       "    </tr>\n",
       "    <tr>\n",
       "      <th>1201491</th>\n",
       "      <td>Nursing Director</td>\n",
       "      <td>4 to 10 Years Nurse Manager BBA Nursing manage...</td>\n",
       "    </tr>\n",
       "    <tr>\n",
       "      <th>1172197</th>\n",
       "      <td>Legal Assistant</td>\n",
       "      <td>2 to 13 Years Legal Secretary M.Tech Legal res...</td>\n",
       "    </tr>\n",
       "    <tr>\n",
       "      <th>147279</th>\n",
       "      <td>Manufacturing Engineer</td>\n",
       "      <td>1 to 11 Years Mechanical Engineer B.Tech Manuf...</td>\n",
       "    </tr>\n",
       "    <tr>\n",
       "      <th>368779</th>\n",
       "      <td>Executive Assistant</td>\n",
       "      <td>2 to 10 Years Administrative Assistant M.Tech ...</td>\n",
       "    </tr>\n",
       "    <tr>\n",
       "      <th>90306</th>\n",
       "      <td>Purchasing Coordinator</td>\n",
       "      <td>1 to 10 Years Procurement Coordinator PhD Proc...</td>\n",
       "    </tr>\n",
       "    <tr>\n",
       "      <th>479946</th>\n",
       "      <td>Personal Assistant</td>\n",
       "      <td>3 to 10 Years Executive Assistant B.Com Organi...</td>\n",
       "    </tr>\n",
       "  </tbody>\n",
       "</table>\n",
       "</div>"
      ],
      "text/plain": [
       "                            Role  \\\n",
       "37895      HVAC Systems Designer   \n",
       "3266     Brand Marketing Analyst   \n",
       "600932           Content Creator   \n",
       "1072307       Performance Tester   \n",
       "1201491         Nursing Director   \n",
       "1172197          Legal Assistant   \n",
       "147279    Manufacturing Engineer   \n",
       "368779       Executive Assistant   \n",
       "90306     Purchasing Coordinator   \n",
       "479946        Personal Assistant   \n",
       "\n",
       "                                                  Features  \n",
       "37895    5 to 15 Years Mechanical Designer BCA HVAC sys...  \n",
       "3266     4 to 11 Years Brand Manager PhD Marketing anal...  \n",
       "600932   0 to 15 Years Social Media Coordinator M.Tech ...  \n",
       "1072307  4 to 10 Years Software Tester MBA Performance ...  \n",
       "1201491  4 to 10 Years Nurse Manager BBA Nursing manage...  \n",
       "1172197  2 to 13 Years Legal Secretary M.Tech Legal res...  \n",
       "147279   1 to 11 Years Mechanical Engineer B.Tech Manuf...  \n",
       "368779   2 to 10 Years Administrative Assistant M.Tech ...  \n",
       "90306    1 to 10 Years Procurement Coordinator PhD Proc...  \n",
       "479946   3 to 10 Years Executive Assistant B.Com Organi...  "
      ]
     },
     "execution_count": 3,
     "metadata": {},
     "output_type": "execute_result"
    }
   ],
   "source": [
    "df.sample(10)"
   ]
  },
  {
   "cell_type": "code",
   "execution_count": 4,
   "id": "ed7fa217",
   "metadata": {},
   "outputs": [
    {
     "data": {
      "text/plain": [
       "(1615940, 2)"
      ]
     },
     "execution_count": 4,
     "metadata": {},
     "output_type": "execute_result"
    }
   ],
   "source": [
    "df.shape"
   ]
  },
  {
   "cell_type": "code",
   "execution_count": 5,
   "id": "abad1791",
   "metadata": {},
   "outputs": [
    {
     "data": {
      "text/plain": [
       "Interaction Designer            20580\n",
       "Network Administrator           17470\n",
       "User Interface Designer         14036\n",
       "Social Media Manager            13945\n",
       "User Experience Designer        13935\n",
       "                                ...  \n",
       "Inventory Control Specialist     3342\n",
       "Budget Analyst                   3335\n",
       "Clinical Nurse Manager           3324\n",
       "Social Science Researcher        3321\n",
       "Paid Advertising Specialist      3306\n",
       "Name: Role, Length: 376, dtype: int64"
      ]
     },
     "execution_count": 5,
     "metadata": {},
     "output_type": "execute_result"
    }
   ],
   "source": [
    "df['Role'].value_counts()"
   ]
  },
  {
   "cell_type": "code",
   "execution_count": 6,
   "id": "b3a3ea35",
   "metadata": {},
   "outputs": [
    {
     "data": {
      "text/plain": [
       "Interaction Designer          20580\n",
       "Network Administrator         17470\n",
       "User Interface Designer       14036\n",
       "Social Media Manager          13945\n",
       "User Experience Designer      13935\n",
       "                              ...  \n",
       "Benefits Coordinator           6839\n",
       "Research Analyst               6830\n",
       "Administrative Coordinator     6803\n",
       "IT Support Specialist          6799\n",
       "UI/UX Designer                 6743\n",
       "Name: Role, Length: 61, dtype: int64"
      ]
     },
     "execution_count": 6,
     "metadata": {},
     "output_type": "execute_result"
    }
   ],
   "source": [
    "# Dropping classes with less than 6500 instances\n",
    "min_count = 5000\n",
    "role_counts = df['Role'].value_counts()\n",
    "dropped_classes = role_counts[role_counts < min_count].index\n",
    "filtered_df = df[~df['Role'].isin(dropped_classes)].reset_index(drop=True)\n",
    "\n",
    "# Checking the updated role counts\n",
    "filtered_df['Role'].value_counts()"
   ]
  },
  {
   "cell_type": "code",
   "execution_count": 7,
   "id": "d1c5b428",
   "metadata": {},
   "outputs": [
    {
     "data": {
      "text/plain": [
       "Interaction Designer            20580\n",
       "Network Administrator           17470\n",
       "User Interface Designer         14036\n",
       "Social Media Manager            13945\n",
       "User Experience Designer        13935\n",
       "                                ...  \n",
       "Inventory Control Specialist     3342\n",
       "Budget Analyst                   3335\n",
       "Clinical Nurse Manager           3324\n",
       "Social Science Researcher        3321\n",
       "Paid Advertising Specialist      3306\n",
       "Name: Role, Length: 376, dtype: int64"
      ]
     },
     "execution_count": 7,
     "metadata": {},
     "output_type": "execute_result"
    }
   ],
   "source": [
    "df['Role'].value_counts()"
   ]
  },
  {
   "cell_type": "code",
   "execution_count": 8,
   "id": "175e64af",
   "metadata": {},
   "outputs": [
    {
     "data": {
      "text/plain": [
       "61"
      ]
     },
     "execution_count": 8,
     "metadata": {},
     "output_type": "execute_result"
    }
   ],
   "source": [
    "len(filtered_df['Role'].value_counts())"
   ]
  },
  {
   "cell_type": "code",
   "execution_count": 9,
   "id": "03b20f07",
   "metadata": {},
   "outputs": [
    {
     "name": "stdout",
     "output_type": "stream",
     "text": [
      "['Social Media Manager', 'Frontend Web Developer', 'Quality Control Manager', 'Wireless Network Engineer', 'Conference Manager', 'Quality Assurance Analyst', 'Classroom Teacher', 'User Interface Designer', 'Interaction Designer', 'Wedding Consultant', 'Performance Testing Specialist', 'Family Law Attorney', 'Mechanical Design Engineer', 'Network Security Analyst', 'Sales Account Manager', 'Product Brand Manager', 'School Social Worker', 'Content Creator', 'Deliverability Analyst', 'HR Coordinator', 'Legal Secretary', 'Family Nurse Practitioner', 'Account Strategist', 'Backend Developer', 'Supply Chain Coordinator', 'Supply Chain Coordinator', 'B2B Sales Consultant', 'Structural Engineer', 'Security Operations Center (SOC) Analyst', 'Front-End Developer', 'Tax Planner', 'Event Coordinator', 'Clinical Psychologist', 'Electrical Engineer', 'Lighting Designer', 'Business Intelligence Analyst', 'Content Writer', 'User Interface Designer', 'Personal Tax Consultant', 'Automation Tester', 'Sales Account Executive', 'IT Support Specialist', 'Account Strategist', 'Social Media Manager', 'Database Developer', 'Social Science Researcher', 'Record Keeper', 'Staff Nurse', 'International Tax Consultant', 'Risk Analyst', 'Speech Pathologist', 'Regional Sales Director', 'Mental Health Counselor', 'Family Nurse Practitioner', 'Urban Planner', 'Strategic Account Manager', 'User Researcher', 'Sales Account Manager', 'Financial Analyst', 'Desktop Support Technician', 'Art Curator', 'Sales Account Executive', 'Mobile App Developer', 'Agile Project Manager', 'Structural Engineer', 'Service Quality Assurance Manager', 'Procurement Analyst', 'Family Counselor', 'Logistics Analyst', 'Data Architect', 'Regional Sales Director', 'Logistics Analyst', 'User Interface Designer', 'Quality Assurance Analyst', 'Quality Assurance Analyst', 'Documentation Specialist', 'Financial Accountant', 'Inside Sales Representative', 'Strategic Account Manager', 'Network Security Analyst', 'Inventory Manager', 'Automation Test Engineer', 'User Interface Designer', 'Inside Sales Representative', 'Sustainability Consultant', 'Electronics Hardware Engineer', 'Systems Integration Specialist', 'Brand Strategist', 'Electrical Engineer', 'Acute Care Nurse Practitioner', 'Trial Attorney', 'Network Security Engineer', 'Research Psychologist', 'Art Education Coordinator', 'Talent Acquisition Manager', 'Classroom Teacher', 'Inventory Control Specialist', 'Corporate Attorney', 'SQL Database Developer', 'Procurement Manager', 'IT Analyst', 'Acute Care Nurse Practitioner', 'Key Account Executive', 'Creative Copywriter', 'Procurement Manager', 'SEO Specialist', 'Front-End Developer', 'Event Coordinator', 'Account Executive', 'B2B Sales Consultant', 'Database Developer', 'Construction Project Manager', 'Social Media Manager', 'Instructional Designer', 'Content Strategist', 'Training Coordinator', 'Recruitment Coordinator', 'Strategic Partnerships Manager', 'Java Backend Developer', 'Sales Team Leader', 'Pediatric Speech Therapist', 'Big Data Engineer', 'NoSQL Database Engineer', 'Demand Planner', 'Wedding Designer', 'Event Planner', 'Desktop Support Technician', 'Portfolio Manager', 'Geriatric Nurse Practitioner', 'JavaScript Developer', 'Account Manager', 'Purchasing Coordinator', 'Big Data Engineer', 'Transportation Planner', 'Key Account Executive', 'Adult Speech Therapist', 'Benefits Coordinator', 'Interior Designer', 'Investment Analyst', 'Email Campaign Manager', 'Sustainability Specialist', 'Server Developer', 'Systems Administrator', 'Design Engineer', 'Market Research Coordinator', 'Call Center Agent', 'Customer Success Manager', 'Environmental Designer', 'Sales Account Manager', 'User Interface Designer', 'IT Business Analyst', 'Interaction Designer', 'Social Media Analyst', 'User Interface Designer', 'JavaScript Developer', 'Child Custody Lawyer', 'Wireless Network Engineer', 'Data Scientist', 'Interaction Designer', 'Clinical Nurse Specialist', 'Child Custody Lawyer', 'Legal Secretary', 'Product Brand Manager', 'Quality Control Analyst', 'Data Scientist', 'Sales Account Executive', 'Power Systems Engineer', 'Network Security Specialist', 'Customer Success Manager', 'Commercial Interior Designer', 'Addiction Counselor', 'Cloud Architect', 'Data Business Analyst', 'Supply Chain Coordinator', 'Mobile App Developer', 'Nursing Director', 'Small Animal Veterinarian', 'Chemical Engineer', 'Market Research Analyst', 'Infrastructure Manager', 'QA Tester', 'Logistics Analyst', 'IT Project Manager', 'Quality Control Manager', 'Client Relationship Manager', 'Backend Web Developer', 'Database Developer', 'Legal Secretary', 'Medical Sales Specialist', 'Office Coordinator', 'Interaction Designer', 'Interaction Designer', 'Inside Sales Representative', 'Paralegal', 'Automation Tester', 'User Interface Designer', 'Sales Account Executive', 'Project Architect', 'Service Quality Assurance Manager', 'Performance Tester', 'IT Support Specialist', 'Territory Sales Manager', 'Help Desk Support Specialist', 'Interaction Designer', 'Special Education Teacher', 'IT Support Specialist', 'Recruitment Coordinator', 'Test Automation Engineer', 'Surgical Physician Assistant', 'Recruitment Coordinator', 'Administrative Assistant', 'Data Quality Analyst', 'Tax Accountant', 'Equine Veterinarian', 'Investment Portfolio Manager', 'Brand Director', 'Operations Director', 'Systems Administrator', 'Key Account Manager', 'Accessibility Developer', 'Social Media Analyst', 'Senior Researcher', 'Construction Project Manager', 'Java Software Engineer', 'IT Project Manager', 'Residential Interior Designer', 'Office Manager', 'Social Media Analyst', 'Human Resources Director', 'Personal Assistant', 'Talent Acquisition Manager', 'Sales Representative', 'Quality Assurance Analyst', 'Corporate Litigator', 'Interior Designer', 'Exotic Animal Veterinarian', 'Brand Manager', 'Sourcing Analyst', 'Interaction Designer', 'Systems Administrator', 'Customer Success Manager', 'Investment Portfolio Manager', 'Systems Administrator', 'Employee Relations Specialist', 'Fine Arts Instructor', 'Brand PR Specialist', 'Finance Manager', 'Social Science Researcher', 'Network Administrator', 'Environmental Impact Analyst', 'Wealth Advisor', 'Financial Planner', 'Systems Engineer', 'Procurement Coordinator', 'Speech Pathologist', 'Social Media Manager', 'Market Researcher', 'Supply Chain Manager', 'Data Analyst', 'Finance Manager', 'B2B Sales Consultant', 'Social Media Manager', 'Strategic Sourcing Manager', 'Staff Nurse', 'Electrical Engineer', 'Real Estate Paralegal', 'Fine Arts Instructor', 'Quality Assurance Analyst', 'Inventory Manager', 'Event Planner', 'Urban Planner', 'Mechanical Design Engineer', 'Commercial Landscape Architect', 'Front-End Developer', 'Database Developer', 'SEO Specialist', 'City Planner', 'Frontend Web Designer', 'Customer Success Manager', 'Pediatric Occupational Therapist', 'Corporate Attorney', 'Risk Analyst', 'Visual Designer', 'Sustainable Design Specialist', 'Crisis Communication Manager', 'HR Compliance Specialist', 'Staff Nurse', 'Child Welfare Worker', 'Account Manager', 'Advertising Account Executive', 'Customer Success Manager', 'In-House Counsel', 'Corporate Litigator', 'Water Resources Engineer', 'Marketing Specialist', 'Dental Hygiene Educator', 'Administrative Manager', 'SEM Analyst', 'Technical SEO Specialist', 'Front-End Developer', 'Corporate Event Coordinator', 'UI/UX Front-End Developer', 'Account Manager', 'Backend Developer', 'Pediatric Surgeon', 'Event Coordinator', 'Quality Assurance Analyst', 'Strategic Sourcing Manager', 'Wedding Designer', 'Project Coordinator', 'IT Analyst', 'Brand Strategist', 'Social Science Researcher', 'QA Manager', 'Benefits Coordinator', 'Corporate Attorney', 'Mergers and Acquisitions Advisor', 'City Planner', 'Network Security Engineer', 'Finance Manager', 'Interior Designer', 'Industrial Engineer', 'Infrastructure Manager', 'Strategic Account Manager', 'Personal Assistant', 'Crisis Communication Manager', 'SEO Copywriter', 'Product Marketing Manager', 'Machine Learning Engineer', 'Transportation Planner', 'Digital Marketing Coordinator', 'Water Resources Engineer', 'Architectural Designer', 'Frontend Developer', 'Database Analyst', 'Content SEO Strategist', 'Content Creator', 'Live Chat Support Agent', 'Interaction Designer', 'Intellectual Property Lawyer', 'Wealth Management Advisor', 'Studio Art Teacher', 'ETL Developer', 'Demand Planner', 'Personal Secretary', 'Security Operations Center (SOC) Analyst', 'User Interface Designer', 'Recruitment Coordinator', 'IT Analyst', 'Content Writer', 'Market Researcher', 'Interaction Designer', 'Environmental Designer', 'Urban Planner', 'Market Research Coordinator', 'Technical Support Specialist', 'Cloud Architect', 'IT Support Specialist', 'Corporate Paralegal', 'Corporate Event Coordinator', 'Technical SEO Analyst', 'Primary Care Nurse Practitioner', 'Accounting Controller', 'Logistics Manager', 'Trial Attorney', 'Primary Care Provider', 'Inventory Manager', 'Structural Engineer', 'Demand Planner', 'Sales Account Executive', 'Social Media Strategist', 'UX/UI Designer', 'Customer Support Manager', 'Geriatric Occupational Therapist', 'Interaction Designer', 'Email Campaign Manager', 'Water Resources Engineer', 'User Experience Designer', 'Network Performance Analyst', 'Business Intelligence Analyst', 'Account Executive', 'Network Administrator', 'Database Administrator', 'Dental Hygiene Educator', 'Family Law Attorney', 'Personal Secretary', 'CAD Technician', 'QA Manager', 'UI/UX Developer', 'Corporate Counsel', 'Corporate Attorney', 'Account Executive', 'Social Media Analyst', 'Quality Control Manager', 'User Interface Designer', 'Clinical Psychologist', 'Systems Integration Specialist', 'Project Architect', 'Brand Marketing Analyst', 'Brand Manager', 'Office Manager', 'Key Account Manager', 'Manufacturing Engineer', 'Procurement Specialist', 'Commercial Interior Designer', 'User Experience Designer', 'Paralegal', 'Cloud Architect', 'Deliverability Analyst', 'Procurement Analyst', 'Market Researcher', 'Staff Nurse', 'Security Consultant', 'IT Director', 'Marketing Analytics Specialist', 'Advertising Account Executive', 'Security Operations Center (SOC) Analyst', 'Database Administrator', 'Help Desk Support Specialist', 'Research Analyst', 'DevOps Engineer', 'B2B Sales Consultant', 'Quality Assurance Analyst', 'Mechanical Design Engineer', 'Key Account Manager', 'Supply Chain Coordinator', 'Electrical Engineer', 'QA Tester', 'Legal Counsel', 'Sourcing Analyst', 'Brand Marketing Analyst', 'Network Administrator', 'Digital Marketing Coordinator', 'Agile Project Manager', 'Creative Copywriter', 'UX/UI Designer', 'Manufacturing Engineer', 'Crisis Communication Manager', 'Backend Developer', 'Lighting Designer', 'Database Administrator', 'Inventory Control Specialist', 'Personal Tax Consultant', 'Market Research Analyst', 'Database Security Specialist', 'Infrastructure Manager', 'Corporate Attorney', 'NoSQL Database Engineer', 'Geriatric Occupational Therapist', 'Real Estate Paralegal', 'Industrial Engineer', 'Print Graphic Designer', 'User Interface Designer', 'Frontend Web Developer', 'Trial Attorney', 'IT Project Manager', 'Social Science Researcher', 'Digital Marketing Manager', 'Database Security Specialist', 'Research Analyst', 'Family Counselor', 'NoSQL Database Engineer', 'Social Media Manager', 'Brand PR Specialist', 'Corporate Paralegal', 'Technical Support Specialist', 'User Experience Designer', 'Litigation Support Specialist', 'Small Animal Veterinarian', 'Content Marketing Manager', 'Account Manager', 'Benefits Coordinator', 'Mediator', 'Account Strategist', 'Accounting Manager', 'Urban Planner', 'Primary Care Nurse Practitioner', 'Commercial Landscape Architect', 'Sales Manager', 'Help Desk Analyst', 'Wedding Planner', 'Inside Sales Representative', 'Sustainable Design Specialist', 'Data Business Analyst', 'Network Security Specialist', 'Child Custody Lawyer', 'Technical Support Specialist', 'Demand Planner', 'Benefits Coordinator', 'Controls Engineer', 'General Pediatrician', 'Facilities Manager', 'Pediatric Physical Therapist', 'Pediatric Surgeon', 'Demand Planner', 'Electronics Hardware Engineer', 'Investment Advisor', 'Digital Marketing Specialist', 'Visual Designer', 'Cloud Systems Engineer']\n"
     ]
    }
   ],
   "source": [
    "l = []\n",
    "\n",
    "for role in df['Role']:\n",
    "    l.append(role)\n",
    "\n",
    "print(l[:500])\n"
   ]
  },
  {
   "cell_type": "code",
   "execution_count": 10,
   "id": "facaa061",
   "metadata": {},
   "outputs": [],
   "source": [
    "df = filtered_df.sample(n=10000)"
   ]
  },
  {
   "cell_type": "code",
   "execution_count": 11,
   "id": "42196e26",
   "metadata": {},
   "outputs": [
    {
     "data": {
      "text/html": [
       "<div>\n",
       "<style scoped>\n",
       "    .dataframe tbody tr th:only-of-type {\n",
       "        vertical-align: middle;\n",
       "    }\n",
       "\n",
       "    .dataframe tbody tr th {\n",
       "        vertical-align: top;\n",
       "    }\n",
       "\n",
       "    .dataframe thead th {\n",
       "        text-align: right;\n",
       "    }\n",
       "</style>\n",
       "<table border=\"1\" class=\"dataframe\">\n",
       "  <thead>\n",
       "    <tr style=\"text-align: right;\">\n",
       "      <th></th>\n",
       "      <th>Role</th>\n",
       "      <th>Features</th>\n",
       "    </tr>\n",
       "  </thead>\n",
       "  <tbody>\n",
       "    <tr>\n",
       "      <th>457983</th>\n",
       "      <td>Automation Tester</td>\n",
       "      <td>4 to 8 Years Software Tester M.Com Test automa...</td>\n",
       "    </tr>\n",
       "    <tr>\n",
       "      <th>24999</th>\n",
       "      <td>Data Analyst</td>\n",
       "      <td>1 to 11 Years Marketing Analyst BBA Data analy...</td>\n",
       "    </tr>\n",
       "    <tr>\n",
       "      <th>406962</th>\n",
       "      <td>Systems Administrator</td>\n",
       "      <td>5 to 9 Years Network Administrator M.Com Syste...</td>\n",
       "    </tr>\n",
       "    <tr>\n",
       "      <th>116109</th>\n",
       "      <td>Content Strategist</td>\n",
       "      <td>1 to 8 Years Content Writer B.Tech Content str...</td>\n",
       "    </tr>\n",
       "    <tr>\n",
       "      <th>494289</th>\n",
       "      <td>UX/UI Designer</td>\n",
       "      <td>0 to 10 Years UI Developer M.Com User experien...</td>\n",
       "    </tr>\n",
       "  </tbody>\n",
       "</table>\n",
       "</div>"
      ],
      "text/plain": [
       "                         Role  \\\n",
       "457983      Automation Tester   \n",
       "24999            Data Analyst   \n",
       "406962  Systems Administrator   \n",
       "116109     Content Strategist   \n",
       "494289         UX/UI Designer   \n",
       "\n",
       "                                                 Features  \n",
       "457983  4 to 8 Years Software Tester M.Com Test automa...  \n",
       "24999   1 to 11 Years Marketing Analyst BBA Data analy...  \n",
       "406962  5 to 9 Years Network Administrator M.Com Syste...  \n",
       "116109  1 to 8 Years Content Writer B.Tech Content str...  \n",
       "494289  0 to 10 Years UI Developer M.Com User experien...  "
      ]
     },
     "execution_count": 11,
     "metadata": {},
     "output_type": "execute_result"
    }
   ],
   "source": [
    "df.head()"
   ]
  },
  {
   "cell_type": "markdown",
   "id": "7316983f",
   "metadata": {},
   "source": [
    "## TF-IDF Vectorization"
   ]
  },
  {
   "cell_type": "code",
   "execution_count": 12,
   "id": "cee6eccf",
   "metadata": {},
   "outputs": [],
   "source": [
    "from sklearn.model_selection import train_test_split\n",
    "from sklearn.feature_extraction.text import TfidfVectorizer\n",
    "from sklearn.ensemble import RandomForestClassifier\n",
    "from sklearn.metrics import accuracy_score\n",
    "\n",
    "# Splitting the data into features (X) and target (y)\n",
    "X = df['Features']\n",
    "y = df['Role']\n",
    "\n",
    "# Train-test split\n",
    "X_train, X_test, y_train, y_test = train_test_split(X, y, test_size=0.2, random_state=42)\n",
    "\n",
    "# TF-IDF vectorization\n",
    "tfidf_vectorizer = TfidfVectorizer()\n",
    "X_train_tfidf = tfidf_vectorizer.fit_transform(X_train)\n",
    "X_test_tfidf = tfidf_vectorizer.transform(X_test)"
   ]
  },
  {
   "cell_type": "markdown",
   "id": "ea4f240b",
   "metadata": {},
   "source": [
    "## Model Initialization"
   ]
  },
  {
   "cell_type": "code",
   "execution_count": 13,
   "id": "447a8441",
   "metadata": {},
   "outputs": [
    {
     "data": {
      "text/plain": [
       "RandomForestClassifier()"
      ]
     },
     "execution_count": 13,
     "metadata": {},
     "output_type": "execute_result"
    }
   ],
   "source": [
    "# RandomForestClassifier\n",
    "rf_classifier = RandomForestClassifier()\n",
    "rf_classifier.fit(X_train_tfidf, y_train)"
   ]
  },
  {
   "cell_type": "code",
   "execution_count": 14,
   "id": "905f4823",
   "metadata": {},
   "outputs": [],
   "source": [
    "# Predictions\n",
    "y_pred = rf_classifier.predict(X_test_tfidf)\n"
   ]
  },
  {
   "cell_type": "code",
   "execution_count": 15,
   "id": "00171e3d",
   "metadata": {},
   "outputs": [
    {
     "name": "stdout",
     "output_type": "stream",
     "text": [
      "Accuracy: 1.0\n"
     ]
    }
   ],
   "source": [
    "# Accuracy\n",
    "accuracy = accuracy_score(y_test, y_pred)\n",
    "print(\"Accuracy:\", accuracy)"
   ]
  },
  {
   "cell_type": "markdown",
   "id": "a113c01e",
   "metadata": {},
   "source": [
    "## Recommendation"
   ]
  },
  {
   "cell_type": "code",
   "execution_count": 16,
   "id": "49484fd1",
   "metadata": {},
   "outputs": [],
   "source": [
    "import re\n",
    "\n",
    "# Clean resume function\n",
    "def cleanResume(txt):\n",
    "    cleanText = re.sub('http\\S+\\s', ' ', txt)\n",
    "    cleanText = re.sub('RT|cc', ' ', cleanText)\n",
    "    cleanText = re.sub('#\\S+\\s', ' ', cleanText)\n",
    "    cleanText = re.sub('@\\S+', ' ', cleanText)  \n",
    "    cleanText = re.sub('[%s]' % re.escape(\"\"\"!\"#$%&'()*+,-./:;<=>?@[\\]^_`{|}~\"\"\"), ' ', cleanText)\n",
    "    cleanText = re.sub(r'[^\\x00-\\x7f]', ' ', cleanText) \n",
    "    cleanText = re.sub('\\s+', ' ', cleanText)\n",
    "    return cleanText\n",
    "\n",
    "# Prediction and Category Name - Recommend top 5 jobs\n",
    "def job_recommendation(resume_text):\n",
    "    # Clean the resume text\n",
    "    resume_text = cleanResume(resume_text)\n",
    "    # Transform the cleaned text with the vectorizer\n",
    "    resume_tfidf = tfidf_vectorizer.transform([resume_text])\n",
    "    \n",
    "    # Get probabilities for each class\n",
    "    probabilities = rf_classifier.predict_proba(resume_tfidf)[0]\n",
    "    # Get the top 5 categories based on probability scores\n",
    "    top_5_indices = probabilities.argsort()[-5:][::-1]\n",
    "    top_5_categories = [rf_classifier.classes_[index] for index in top_5_indices]\n",
    "    \n",
    "    return top_5_categories"
   ]
  },
  {
   "cell_type": "code",
   "execution_count": 17,
   "id": "5526587a",
   "metadata": {},
   "outputs": [
    {
     "name": "stdout",
     "output_type": "stream",
     "text": [
      "Predicted Category: ['Retirement Planner', 'User Interface Designer', 'UI/UX Designer', 'User Experience Designer', 'Network Administrator']\n"
     ]
    }
   ],
   "source": [
    "# Example-1\n",
    "\n",
    "resume_file = \"\"\"Objective:\n",
    "A creative and detail-oriented Designer with a passion for visual communication and brand identity seeking opportunities to leverage design skills in a dynamic and collaborative environment.\n",
    "\n",
    "Education:\n",
    "- Bachelor of Fine Arts in Graphic Design, XYZ College, GPA: 3.7/4.0\n",
    "- Diploma in Web Design, ABC Institute, GPA: 3.9/4.0\n",
    "\n",
    "Skills:\n",
    "- Proficient in Adobe Creative Suite (Photoshop, Illustrator, InDesign)\n",
    "- Strong understanding of typography, layout, and color theory\n",
    "- Experience in both print and digital design\n",
    "- Ability to conceptualize and execute design projects from concept to completion\n",
    "- Excellent attention to detail and time management skills\n",
    "\n",
    "Experience:\n",
    "Graphic Designer | XYZ Design Studio\n",
    "- Created visually appealing graphics for various marketing materials, including brochures, flyers, and social media posts\n",
    "- Collaborated with clients to understand their design needs and deliver creative solutions that align with their brand identity\n",
    "- Worked closely with the marketing team to ensure consistency in brand messaging across all platforms\n",
    "\n",
    "Freelance Designer\n",
    "- Designed logos, branding materials, and website layouts for small businesses and startups\n",
    "- Managed multiple projects simultaneously while meeting tight deadlines and maintaining quality standards\n",
    "- Established and maintained strong client relationships through clear communication and exceptional service\n",
    "\n",
    "Projects:\n",
    "- Rebranding Campaign for XYZ Company: Led a team to redesign the company's logo, website, and marketing collateral, resulting in a 30% increase in brand recognition\n",
    "- Packaging Design for ABC Product Launch: Developed eye-catching packaging designs for a new product line, contributing to a successful launch and positive customer feedback\n",
    "\n",
    "Certifications:\n",
    "- Adobe Certified Expert (ACE) in Adobe Illustrator\n",
    "- Responsive Web Design Certification from Udemy\n",
    "\n",
    "Languages:\n",
    "- English (Native)\n",
    "- Spanish (Intermediate)\n",
    "\"\"\"\n",
    "predicted_category = job_recommendation(resume_file)\n",
    "print(\"Predicted Category:\", predicted_category)"
   ]
  },
  {
   "cell_type": "code",
   "execution_count": 18,
   "id": "eaa995e1",
   "metadata": {},
   "outputs": [
    {
     "name": "stdout",
     "output_type": "stream",
     "text": [
      "Predicted Category: ['Retirement Planner', 'Customer Success Manager', 'Portfolio Manager', 'Market Researcher', 'Data Analyst']\n"
     ]
    }
   ],
   "source": [
    "# Example-2\n",
    "\n",
    "resume_file = \"\"\"Objective:\n",
    "Dedicated and results-oriented Banking professional with a strong background in financial analysis and customer service seeking opportunities to contribute to a reputable financial institution. Eager to leverage expertise in risk management, investment strategies, and relationship building to drive business growth and client satisfaction.\n",
    "\n",
    "Education:\n",
    "- Bachelor of Business Administration in Finance, XYZ University, GPA: 3.8/4.0\n",
    "- Certified Financial Analyst (CFA) Level I Candidate\n",
    "\n",
    "Skills:\n",
    "- Proficient in financial modeling and analysis using Excel, Bloomberg Terminal, and other financial software\n",
    "- Extensive knowledge of banking products and services, including loans, mortgages, and investment products\n",
    "- Strong understanding of regulatory compliance and risk management practices in the banking industry\n",
    "- Excellent communication and interpersonal skills, with a focus on building rapport with clients and colleagues\n",
    "- Ability to work efficiently under pressure and adapt to changing market conditions\n",
    "\n",
    "Experience:\n",
    "Financial Analyst | ABC Bank\n",
    "- Conducted financial analysis and risk assessment for corporate clients, including credit analysis, financial statement analysis, and cash flow modeling\n",
    "- Developed customized financial solutions to meet clients' needs and objectives, resulting in increased revenue and client retention\n",
    "- Collaborated with cross-functional teams to identify new business opportunities and optimize existing processes\n",
    "\n",
    "Customer Service Representative | DEF Bank\n",
    "- Provided exceptional customer service to bank clients, addressing inquiries, resolving issues, and promoting banking products and services\n",
    "- Processed transactions accurately and efficiently, including deposits, withdrawals, and account transfers\n",
    "- Educated customers on various banking products and services, helping them make informed financial decisions\n",
    "\n",
    "Internship | GHI Investments\n",
    "- Assisted portfolio managers with investment research and analysis, including industry and company-specific research, financial modeling, and performance analysis\n",
    "- Prepared investment presentations and reports for clients, highlighting investment opportunities and performance metrics\n",
    "- Conducted market research and analysis to identify trends and opportunities in the financial markets\n",
    "\n",
    "Certifications:\n",
    "- Certified Financial Planner (CFP)\n",
    "- Series 7 and Series 63 Securities Licenses\n",
    "\n",
    "Languages:\n",
    "- English (Native)\n",
    "- Spanish (Proficient)\n",
    "\n",
    "\"\"\"\n",
    "predicted_category = job_recommendation(resume_file)\n",
    "print(\"Predicted Category:\", predicted_category)"
   ]
  },
  {
   "cell_type": "code",
   "execution_count": 19,
   "id": "070b72b3",
   "metadata": {},
   "outputs": [
    {
     "name": "stdout",
     "output_type": "stream",
     "text": [
      "Predicted Category: ['Retirement Planner', 'Automation Tester', 'Research Analyst', 'Market Research Analyst', 'Data Scientist']\n"
     ]
    }
   ],
   "source": [
    "# Example-3\n",
    "\n",
    "resume_file = \"\"\"Objective:\n",
    "Data Scientist with hands-on experience in machine learning, statistical analysis, and data visualization. Passionate about leveraging data insights to solve complex problems and support data-driven decision-making within innovative organizations.\n",
    "\n",
    "Education:\n",
    "\n",
    "Master of Science in Data Science, University of DEF, GPA: 3.9/4.0\n",
    "Bachelor of Science in Statistics, XYZ University, GPA: 3.8/4.0\n",
    "Skills:\n",
    "\n",
    "Proficient in Python, R, SQL, and data visualization libraries (Matplotlib, Seaborn)\n",
    "Experience with machine learning frameworks such as Scikit-Learn, TensorFlow, and PyTorch\n",
    "Strong knowledge of statistical analysis, data mining, and predictive modeling\n",
    "Skilled in data visualization and storytelling using tools like Tableau and Power BI\n",
    "Familiar with Big Data technologies, including Hadoop and Spark\n",
    "Experience:\n",
    "\n",
    "Data Scientist | GHI Tech Solutions\n",
    "\n",
    "Developed and optimized machine learning models to predict customer churn, improving retention strategies and increasing customer lifetime value\n",
    "Collaborated with cross-functional teams to integrate data-driven insights into product development and marketing strategies\n",
    "Created interactive dashboards and visualizations to communicate complex data insights to non-technical stakeholders\n",
    "Data Science Intern | DEF Analytics\n",
    "\n",
    "Performed exploratory data analysis (EDA) on large datasets, identifying patterns and trends to inform business decisions\n",
    "Assisted in building a recommendation engine that increased product recommendations accuracy by 20%\n",
    "Conducted A/B testing and statistical analysis to evaluate the impact of new features and marketing campaigns\n",
    "Certifications:\n",
    "\n",
    "IBM Data Science Professional Certificate\n",
    "Certified Machine Learning Specialist\n",
    "Languages:\n",
    "\n",
    "English (Native)\n",
    "Spanish (Intermediate)\n",
    "\"\"\"\n",
    "predicted_category = job_recommendation(resume_file)\n",
    "print(\"Predicted Category:\", predicted_category)"
   ]
  },
  {
   "cell_type": "code",
   "execution_count": 20,
   "id": "08073ae9",
   "metadata": {},
   "outputs": [
    {
     "name": "stdout",
     "output_type": "stream",
     "text": [
      "Predicted Category: ['Benefits Coordinator', 'Procurement Manager', 'Training Coordinator', 'Network Administrator', 'Retirement Planner']\n"
     ]
    }
   ],
   "source": [
    "# Example-4\n",
    "\n",
    "resume_file = \"\"\"Objective:\n",
    "Results-driven HR Specialist with experience in recruitment, employee relations, and talent management. Dedicated to fostering positive workplace culture and driving organizational success through effective HR practices.\n",
    "\n",
    "Education:\n",
    "\n",
    "Bachelor of Arts in Human Resources Management, University of XYZ, GPA: 3.6/4.0\n",
    "Skills:\n",
    "\n",
    "Proficient in HRIS systems (e.g., Workday, ADP) and applicant tracking systems (ATS)\n",
    "Strong knowledge of labor laws, employee relations, and conflict resolution\n",
    "Experienced in talent acquisition, onboarding, and training\n",
    "Excellent interpersonal and communication skills\n",
    "Experience:\n",
    "\n",
    "HR Specialist | ABC Corporation\n",
    "\n",
    "Managed full-cycle recruitment for multiple departments, reducing time-to-hire by 25% through streamlined processes\n",
    "Conducted onboarding sessions and employee orientation, improving new hire integration and retention\n",
    "Acted as a liaison between employees and management to resolve workplace conflicts and promote positive relationships\n",
    "Certifications:\n",
    "\n",
    "SHRM Certified Professional (SHRM-CP)\n",
    "Languages:\n",
    "\n",
    "English (Native)\n",
    "Spanish (Proficient)\n",
    "\"\"\"\n",
    "predicted_category = job_recommendation(resume_file)\n",
    "print(\"Predicted Category:\", predicted_category)"
   ]
  },
  {
   "cell_type": "code",
   "execution_count": 21,
   "id": "93fe6306",
   "metadata": {},
   "outputs": [
    {
     "name": "stdout",
     "output_type": "stream",
     "text": [
      "Predicted Category: ['Retirement Planner', 'Network Administrator', 'Executive Assistant', 'Database Administrator', 'Systems Administrator']\n"
     ]
    }
   ],
   "source": [
    "# Example-5\n",
    "\n",
    "resume_file = \"\"\"Objective:\n",
    "Experienced and safety-focused Commercial Pilot with over 1,500 flight hours and a strong commitment to ensuring passenger safety and satisfaction. Eager to bring in-depth knowledge of aviation procedures to a reputable airline.\n",
    "\n",
    "Education:\n",
    "\n",
    "Bachelor of Science in Aviation, XYZ Aviation Academy\n",
    "Commercial Pilot License (CPL)\n",
    "Skills:\n",
    "\n",
    "Proficient in navigation and aviation technology, including flight management systems and radar equipment\n",
    "Strong knowledge of safety protocols, weather interpretation, and emergency response\n",
    "Excellent situational awareness, decision-making, and communication skills\n",
    "Experience:\n",
    "\n",
    "First Officer | ABC Airlines\n",
    "\n",
    "Operated domestic and international flights, ensuring compliance with aviation safety regulations and company standards\n",
    "Collaborated with crew members to deliver excellent in-flight service and manage passenger concerns\n",
    "Conducted pre-flight and post-flight inspections, identifying and reporting issues for timely resolution\n",
    "Certifications:\n",
    "\n",
    "Federal Aviation Administration (FAA) Commercial Pilot License\n",
    "Instrument Rating\n",
    "Languages:\n",
    "\n",
    "English (Native)\n",
    "French (Basic)\n",
    "\"\"\"\n",
    "predicted_category = job_recommendation(resume_file)\n",
    "print(\"Predicted Category:\", predicted_category)"
   ]
  },
  {
   "cell_type": "markdown",
   "id": "dc4a4df5",
   "metadata": {},
   "source": [
    "## Save Models"
   ]
  },
  {
   "cell_type": "code",
   "execution_count": 22,
   "id": "9d7154f1",
   "metadata": {},
   "outputs": [],
   "source": [
    "import pickle\n",
    "pickle.dump(rf_classifier,open('rf_classifier_job_recommendation.pkl','wb'))\n",
    "pickle.dump(tfidf_vectorizer,open('tfidf_vectorizer_job_recommendation.pkl','wb'))"
   ]
  },
  {
   "cell_type": "code",
   "execution_count": null,
   "id": "ccd85c1f",
   "metadata": {},
   "outputs": [],
   "source": []
  },
  {
   "cell_type": "code",
   "execution_count": null,
   "id": "8476e22b",
   "metadata": {},
   "outputs": [],
   "source": []
  }
 ],
 "metadata": {
  "kernelspec": {
   "display_name": "Python 3 (ipykernel)",
   "language": "python",
   "name": "python3"
  },
  "language_info": {
   "codemirror_mode": {
    "name": "ipython",
    "version": 3
   },
   "file_extension": ".py",
   "mimetype": "text/x-python",
   "name": "python",
   "nbconvert_exporter": "python",
   "pygments_lexer": "ipython3",
   "version": "3.9.12"
  }
 },
 "nbformat": 4,
 "nbformat_minor": 5
}
